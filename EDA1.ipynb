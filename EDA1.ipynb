{
  "nbformat": 4,
  "nbformat_minor": 0,
  "metadata": {
    "colab": {
      "provenance": [],
      "toc_visible": true
    },
    "kernelspec": {
      "name": "python3",
      "display_name": "Python 3"
    },
    "language_info": {
      "name": "python"
    }
  },
  "cells": [
    {
      "cell_type": "code",
      "execution_count": null,
      "metadata": {
        "id": "831Ai2xPw2kC"
      },
      "outputs": [],
      "source": []
    },
    {
      "cell_type": "code",
      "source": [
        "import numpy as np\n",
        "import pandas as pd"
      ],
      "metadata": {
        "id": "Tq7GPhrwxus9"
      },
      "execution_count": null,
      "outputs": []
    },
    {
      "cell_type": "code",
      "source": [
        "df=pd.read_csv(\"employees.csv\")"
      ],
      "metadata": {
        "id": "iBOqHxDKzYj6"
      },
      "execution_count": null,
      "outputs": []
    },
    {
      "cell_type": "code",
      "source": [
        "df.head()"
      ],
      "metadata": {
        "colab": {
          "base_uri": "https://localhost:8080/",
          "height": 288
        },
        "id": "x1wCpQsRzuDg",
        "outputId": "4d735e0e-31ea-4e04-f9c9-eaf730d2ec5a"
      },
      "execution_count": null,
      "outputs": [
        {
          "output_type": "execute_result",
          "data": {
            "text/plain": [
              "   EMPLOYEE_ID FIRST_NAME  LAST_NAME     EMAIL  PHONE_NUMBER  HIRE_DATE  \\\n",
              "0          198     Donald   OConnell  DOCONNEL  650.507.9833  21-JUN-07   \n",
              "1          199    Douglas      Grant    DGRANT  650.507.9844  13-JAN-08   \n",
              "2          200   Jennifer     Whalen   JWHALEN  515.123.4444  17-SEP-03   \n",
              "3          201    Michael  Hartstein  MHARTSTE  515.123.5555  17-FEB-04   \n",
              "4          202        Pat        Fay      PFAY  603.123.6666  17-AUG-05   \n",
              "\n",
              "     JOB_ID  SALARY COMMISSION_PCT MANAGER_ID  DEPARTMENT_ID  \n",
              "0  SH_CLERK    2600             -         124             50  \n",
              "1  SH_CLERK    2600             -         124             50  \n",
              "2   AD_ASST    4400             -         101             10  \n",
              "3    MK_MAN   13000             -         100             20  \n",
              "4    MK_REP    6000             -         201             20  "
            ],
            "text/html": [
              "\n",
              "  <div id=\"df-aba73e4d-cef2-4f5d-bcc1-e4d0506dd5b9\">\n",
              "    <div class=\"colab-df-container\">\n",
              "      <div>\n",
              "<style scoped>\n",
              "    .dataframe tbody tr th:only-of-type {\n",
              "        vertical-align: middle;\n",
              "    }\n",
              "\n",
              "    .dataframe tbody tr th {\n",
              "        vertical-align: top;\n",
              "    }\n",
              "\n",
              "    .dataframe thead th {\n",
              "        text-align: right;\n",
              "    }\n",
              "</style>\n",
              "<table border=\"1\" class=\"dataframe\">\n",
              "  <thead>\n",
              "    <tr style=\"text-align: right;\">\n",
              "      <th></th>\n",
              "      <th>EMPLOYEE_ID</th>\n",
              "      <th>FIRST_NAME</th>\n",
              "      <th>LAST_NAME</th>\n",
              "      <th>EMAIL</th>\n",
              "      <th>PHONE_NUMBER</th>\n",
              "      <th>HIRE_DATE</th>\n",
              "      <th>JOB_ID</th>\n",
              "      <th>SALARY</th>\n",
              "      <th>COMMISSION_PCT</th>\n",
              "      <th>MANAGER_ID</th>\n",
              "      <th>DEPARTMENT_ID</th>\n",
              "    </tr>\n",
              "  </thead>\n",
              "  <tbody>\n",
              "    <tr>\n",
              "      <th>0</th>\n",
              "      <td>198</td>\n",
              "      <td>Donald</td>\n",
              "      <td>OConnell</td>\n",
              "      <td>DOCONNEL</td>\n",
              "      <td>650.507.9833</td>\n",
              "      <td>21-JUN-07</td>\n",
              "      <td>SH_CLERK</td>\n",
              "      <td>2600</td>\n",
              "      <td>-</td>\n",
              "      <td>124</td>\n",
              "      <td>50</td>\n",
              "    </tr>\n",
              "    <tr>\n",
              "      <th>1</th>\n",
              "      <td>199</td>\n",
              "      <td>Douglas</td>\n",
              "      <td>Grant</td>\n",
              "      <td>DGRANT</td>\n",
              "      <td>650.507.9844</td>\n",
              "      <td>13-JAN-08</td>\n",
              "      <td>SH_CLERK</td>\n",
              "      <td>2600</td>\n",
              "      <td>-</td>\n",
              "      <td>124</td>\n",
              "      <td>50</td>\n",
              "    </tr>\n",
              "    <tr>\n",
              "      <th>2</th>\n",
              "      <td>200</td>\n",
              "      <td>Jennifer</td>\n",
              "      <td>Whalen</td>\n",
              "      <td>JWHALEN</td>\n",
              "      <td>515.123.4444</td>\n",
              "      <td>17-SEP-03</td>\n",
              "      <td>AD_ASST</td>\n",
              "      <td>4400</td>\n",
              "      <td>-</td>\n",
              "      <td>101</td>\n",
              "      <td>10</td>\n",
              "    </tr>\n",
              "    <tr>\n",
              "      <th>3</th>\n",
              "      <td>201</td>\n",
              "      <td>Michael</td>\n",
              "      <td>Hartstein</td>\n",
              "      <td>MHARTSTE</td>\n",
              "      <td>515.123.5555</td>\n",
              "      <td>17-FEB-04</td>\n",
              "      <td>MK_MAN</td>\n",
              "      <td>13000</td>\n",
              "      <td>-</td>\n",
              "      <td>100</td>\n",
              "      <td>20</td>\n",
              "    </tr>\n",
              "    <tr>\n",
              "      <th>4</th>\n",
              "      <td>202</td>\n",
              "      <td>Pat</td>\n",
              "      <td>Fay</td>\n",
              "      <td>PFAY</td>\n",
              "      <td>603.123.6666</td>\n",
              "      <td>17-AUG-05</td>\n",
              "      <td>MK_REP</td>\n",
              "      <td>6000</td>\n",
              "      <td>-</td>\n",
              "      <td>201</td>\n",
              "      <td>20</td>\n",
              "    </tr>\n",
              "  </tbody>\n",
              "</table>\n",
              "</div>\n",
              "      <button class=\"colab-df-convert\" onclick=\"convertToInteractive('df-aba73e4d-cef2-4f5d-bcc1-e4d0506dd5b9')\"\n",
              "              title=\"Convert this dataframe to an interactive table.\"\n",
              "              style=\"display:none;\">\n",
              "        \n",
              "  <svg xmlns=\"http://www.w3.org/2000/svg\" height=\"24px\"viewBox=\"0 0 24 24\"\n",
              "       width=\"24px\">\n",
              "    <path d=\"M0 0h24v24H0V0z\" fill=\"none\"/>\n",
              "    <path d=\"M18.56 5.44l.94 2.06.94-2.06 2.06-.94-2.06-.94-.94-2.06-.94 2.06-2.06.94zm-11 1L8.5 8.5l.94-2.06 2.06-.94-2.06-.94L8.5 2.5l-.94 2.06-2.06.94zm10 10l.94 2.06.94-2.06 2.06-.94-2.06-.94-.94-2.06-.94 2.06-2.06.94z\"/><path d=\"M17.41 7.96l-1.37-1.37c-.4-.4-.92-.59-1.43-.59-.52 0-1.04.2-1.43.59L10.3 9.45l-7.72 7.72c-.78.78-.78 2.05 0 2.83L4 21.41c.39.39.9.59 1.41.59.51 0 1.02-.2 1.41-.59l7.78-7.78 2.81-2.81c.8-.78.8-2.07 0-2.86zM5.41 20L4 18.59l7.72-7.72 1.47 1.35L5.41 20z\"/>\n",
              "  </svg>\n",
              "      </button>\n",
              "      \n",
              "  <style>\n",
              "    .colab-df-container {\n",
              "      display:flex;\n",
              "      flex-wrap:wrap;\n",
              "      gap: 12px;\n",
              "    }\n",
              "\n",
              "    .colab-df-convert {\n",
              "      background-color: #E8F0FE;\n",
              "      border: none;\n",
              "      border-radius: 50%;\n",
              "      cursor: pointer;\n",
              "      display: none;\n",
              "      fill: #1967D2;\n",
              "      height: 32px;\n",
              "      padding: 0 0 0 0;\n",
              "      width: 32px;\n",
              "    }\n",
              "\n",
              "    .colab-df-convert:hover {\n",
              "      background-color: #E2EBFA;\n",
              "      box-shadow: 0px 1px 2px rgba(60, 64, 67, 0.3), 0px 1px 3px 1px rgba(60, 64, 67, 0.15);\n",
              "      fill: #174EA6;\n",
              "    }\n",
              "\n",
              "    [theme=dark] .colab-df-convert {\n",
              "      background-color: #3B4455;\n",
              "      fill: #D2E3FC;\n",
              "    }\n",
              "\n",
              "    [theme=dark] .colab-df-convert:hover {\n",
              "      background-color: #434B5C;\n",
              "      box-shadow: 0px 1px 3px 1px rgba(0, 0, 0, 0.15);\n",
              "      filter: drop-shadow(0px 1px 2px rgba(0, 0, 0, 0.3));\n",
              "      fill: #FFFFFF;\n",
              "    }\n",
              "  </style>\n",
              "\n",
              "      <script>\n",
              "        const buttonEl =\n",
              "          document.querySelector('#df-aba73e4d-cef2-4f5d-bcc1-e4d0506dd5b9 button.colab-df-convert');\n",
              "        buttonEl.style.display =\n",
              "          google.colab.kernel.accessAllowed ? 'block' : 'none';\n",
              "\n",
              "        async function convertToInteractive(key) {\n",
              "          const element = document.querySelector('#df-aba73e4d-cef2-4f5d-bcc1-e4d0506dd5b9');\n",
              "          const dataTable =\n",
              "            await google.colab.kernel.invokeFunction('convertToInteractive',\n",
              "                                                     [key], {});\n",
              "          if (!dataTable) return;\n",
              "\n",
              "          const docLinkHtml = 'Like what you see? Visit the ' +\n",
              "            '<a target=\"_blank\" href=https://colab.research.google.com/notebooks/data_table.ipynb>data table notebook</a>'\n",
              "            + ' to learn more about interactive tables.';\n",
              "          element.innerHTML = '';\n",
              "          dataTable['output_type'] = 'display_data';\n",
              "          await google.colab.output.renderOutput(dataTable, element);\n",
              "          const docLink = document.createElement('div');\n",
              "          docLink.innerHTML = docLinkHtml;\n",
              "          element.appendChild(docLink);\n",
              "        }\n",
              "      </script>\n",
              "    </div>\n",
              "  </div>\n",
              "  "
            ]
          },
          "metadata": {},
          "execution_count": 8
        }
      ]
    },
    {
      "cell_type": "code",
      "source": [
        "df.describe()"
      ],
      "metadata": {
        "colab": {
          "base_uri": "https://localhost:8080/",
          "height": 300
        },
        "id": "uoQK3us60gL4",
        "outputId": "61b88e49-be7f-42ea-9daa-ede85bd0d125"
      },
      "execution_count": null,
      "outputs": [
        {
          "output_type": "execute_result",
          "data": {
            "text/plain": [
              "       EMPLOYEE_ID        SALARY  DEPARTMENT_ID\n",
              "count    50.000000     50.000000       50.00000\n",
              "mean    134.760000   6182.320000       57.60000\n",
              "std      33.631594   4586.181772       25.11687\n",
              "min     100.000000   2100.000000       10.00000\n",
              "25%     112.250000   2725.000000       50.00000\n",
              "50%     124.500000   4600.000000       50.00000\n",
              "75%     136.750000   8150.000000       60.00000\n",
              "max     206.000000  24000.000000      110.00000"
            ],
            "text/html": [
              "\n",
              "  <div id=\"df-4fdb0885-4ab5-4668-aab3-752c37520fc1\">\n",
              "    <div class=\"colab-df-container\">\n",
              "      <div>\n",
              "<style scoped>\n",
              "    .dataframe tbody tr th:only-of-type {\n",
              "        vertical-align: middle;\n",
              "    }\n",
              "\n",
              "    .dataframe tbody tr th {\n",
              "        vertical-align: top;\n",
              "    }\n",
              "\n",
              "    .dataframe thead th {\n",
              "        text-align: right;\n",
              "    }\n",
              "</style>\n",
              "<table border=\"1\" class=\"dataframe\">\n",
              "  <thead>\n",
              "    <tr style=\"text-align: right;\">\n",
              "      <th></th>\n",
              "      <th>EMPLOYEE_ID</th>\n",
              "      <th>SALARY</th>\n",
              "      <th>DEPARTMENT_ID</th>\n",
              "    </tr>\n",
              "  </thead>\n",
              "  <tbody>\n",
              "    <tr>\n",
              "      <th>count</th>\n",
              "      <td>50.000000</td>\n",
              "      <td>50.000000</td>\n",
              "      <td>50.00000</td>\n",
              "    </tr>\n",
              "    <tr>\n",
              "      <th>mean</th>\n",
              "      <td>134.760000</td>\n",
              "      <td>6182.320000</td>\n",
              "      <td>57.60000</td>\n",
              "    </tr>\n",
              "    <tr>\n",
              "      <th>std</th>\n",
              "      <td>33.631594</td>\n",
              "      <td>4586.181772</td>\n",
              "      <td>25.11687</td>\n",
              "    </tr>\n",
              "    <tr>\n",
              "      <th>min</th>\n",
              "      <td>100.000000</td>\n",
              "      <td>2100.000000</td>\n",
              "      <td>10.00000</td>\n",
              "    </tr>\n",
              "    <tr>\n",
              "      <th>25%</th>\n",
              "      <td>112.250000</td>\n",
              "      <td>2725.000000</td>\n",
              "      <td>50.00000</td>\n",
              "    </tr>\n",
              "    <tr>\n",
              "      <th>50%</th>\n",
              "      <td>124.500000</td>\n",
              "      <td>4600.000000</td>\n",
              "      <td>50.00000</td>\n",
              "    </tr>\n",
              "    <tr>\n",
              "      <th>75%</th>\n",
              "      <td>136.750000</td>\n",
              "      <td>8150.000000</td>\n",
              "      <td>60.00000</td>\n",
              "    </tr>\n",
              "    <tr>\n",
              "      <th>max</th>\n",
              "      <td>206.000000</td>\n",
              "      <td>24000.000000</td>\n",
              "      <td>110.00000</td>\n",
              "    </tr>\n",
              "  </tbody>\n",
              "</table>\n",
              "</div>\n",
              "      <button class=\"colab-df-convert\" onclick=\"convertToInteractive('df-4fdb0885-4ab5-4668-aab3-752c37520fc1')\"\n",
              "              title=\"Convert this dataframe to an interactive table.\"\n",
              "              style=\"display:none;\">\n",
              "        \n",
              "  <svg xmlns=\"http://www.w3.org/2000/svg\" height=\"24px\"viewBox=\"0 0 24 24\"\n",
              "       width=\"24px\">\n",
              "    <path d=\"M0 0h24v24H0V0z\" fill=\"none\"/>\n",
              "    <path d=\"M18.56 5.44l.94 2.06.94-2.06 2.06-.94-2.06-.94-.94-2.06-.94 2.06-2.06.94zm-11 1L8.5 8.5l.94-2.06 2.06-.94-2.06-.94L8.5 2.5l-.94 2.06-2.06.94zm10 10l.94 2.06.94-2.06 2.06-.94-2.06-.94-.94-2.06-.94 2.06-2.06.94z\"/><path d=\"M17.41 7.96l-1.37-1.37c-.4-.4-.92-.59-1.43-.59-.52 0-1.04.2-1.43.59L10.3 9.45l-7.72 7.72c-.78.78-.78 2.05 0 2.83L4 21.41c.39.39.9.59 1.41.59.51 0 1.02-.2 1.41-.59l7.78-7.78 2.81-2.81c.8-.78.8-2.07 0-2.86zM5.41 20L4 18.59l7.72-7.72 1.47 1.35L5.41 20z\"/>\n",
              "  </svg>\n",
              "      </button>\n",
              "      \n",
              "  <style>\n",
              "    .colab-df-container {\n",
              "      display:flex;\n",
              "      flex-wrap:wrap;\n",
              "      gap: 12px;\n",
              "    }\n",
              "\n",
              "    .colab-df-convert {\n",
              "      background-color: #E8F0FE;\n",
              "      border: none;\n",
              "      border-radius: 50%;\n",
              "      cursor: pointer;\n",
              "      display: none;\n",
              "      fill: #1967D2;\n",
              "      height: 32px;\n",
              "      padding: 0 0 0 0;\n",
              "      width: 32px;\n",
              "    }\n",
              "\n",
              "    .colab-df-convert:hover {\n",
              "      background-color: #E2EBFA;\n",
              "      box-shadow: 0px 1px 2px rgba(60, 64, 67, 0.3), 0px 1px 3px 1px rgba(60, 64, 67, 0.15);\n",
              "      fill: #174EA6;\n",
              "    }\n",
              "\n",
              "    [theme=dark] .colab-df-convert {\n",
              "      background-color: #3B4455;\n",
              "      fill: #D2E3FC;\n",
              "    }\n",
              "\n",
              "    [theme=dark] .colab-df-convert:hover {\n",
              "      background-color: #434B5C;\n",
              "      box-shadow: 0px 1px 3px 1px rgba(0, 0, 0, 0.15);\n",
              "      filter: drop-shadow(0px 1px 2px rgba(0, 0, 0, 0.3));\n",
              "      fill: #FFFFFF;\n",
              "    }\n",
              "  </style>\n",
              "\n",
              "      <script>\n",
              "        const buttonEl =\n",
              "          document.querySelector('#df-4fdb0885-4ab5-4668-aab3-752c37520fc1 button.colab-df-convert');\n",
              "        buttonEl.style.display =\n",
              "          google.colab.kernel.accessAllowed ? 'block' : 'none';\n",
              "\n",
              "        async function convertToInteractive(key) {\n",
              "          const element = document.querySelector('#df-4fdb0885-4ab5-4668-aab3-752c37520fc1');\n",
              "          const dataTable =\n",
              "            await google.colab.kernel.invokeFunction('convertToInteractive',\n",
              "                                                     [key], {});\n",
              "          if (!dataTable) return;\n",
              "\n",
              "          const docLinkHtml = 'Like what you see? Visit the ' +\n",
              "            '<a target=\"_blank\" href=https://colab.research.google.com/notebooks/data_table.ipynb>data table notebook</a>'\n",
              "            + ' to learn more about interactive tables.';\n",
              "          element.innerHTML = '';\n",
              "          dataTable['output_type'] = 'display_data';\n",
              "          await google.colab.output.renderOutput(dataTable, element);\n",
              "          const docLink = document.createElement('div');\n",
              "          docLink.innerHTML = docLinkHtml;\n",
              "          element.appendChild(docLink);\n",
              "        }\n",
              "      </script>\n",
              "    </div>\n",
              "  </div>\n",
              "  "
            ]
          },
          "metadata": {},
          "execution_count": 9
        }
      ]
    },
    {
      "cell_type": "code",
      "source": [],
      "metadata": {
        "id": "P4qz1Kxm0qxI"
      },
      "execution_count": null,
      "outputs": []
    },
    {
      "cell_type": "code",
      "source": [
        "df.info()"
      ],
      "metadata": {
        "colab": {
          "base_uri": "https://localhost:8080/"
        },
        "id": "XHrOcZTO0tJB",
        "outputId": "59b2252e-4c1c-46b3-c39b-e38013a41d0f"
      },
      "execution_count": null,
      "outputs": [
        {
          "output_type": "stream",
          "name": "stdout",
          "text": [
            "<class 'pandas.core.frame.DataFrame'>\n",
            "RangeIndex: 50 entries, 0 to 49\n",
            "Data columns (total 11 columns):\n",
            " #   Column          Non-Null Count  Dtype \n",
            "---  ------          --------------  ----- \n",
            " 0   EMPLOYEE_ID     50 non-null     int64 \n",
            " 1   FIRST_NAME      50 non-null     object\n",
            " 2   LAST_NAME       50 non-null     object\n",
            " 3   EMAIL           50 non-null     object\n",
            " 4   PHONE_NUMBER    50 non-null     object\n",
            " 5   HIRE_DATE       50 non-null     object\n",
            " 6   JOB_ID          50 non-null     object\n",
            " 7   SALARY          50 non-null     int64 \n",
            " 8   COMMISSION_PCT  50 non-null     object\n",
            " 9   MANAGER_ID      50 non-null     object\n",
            " 10  DEPARTMENT_ID   50 non-null     int64 \n",
            "dtypes: int64(3), object(8)\n",
            "memory usage: 4.4+ KB\n"
          ]
        }
      ]
    },
    {
      "cell_type": "code",
      "source": [
        "df.EMAIL.unique()"
      ],
      "metadata": {
        "colab": {
          "base_uri": "https://localhost:8080/"
        },
        "id": "JpYZJfCy1NKZ",
        "outputId": "72a56092-9b09-4577-e46f-bf048486378e"
      },
      "execution_count": null,
      "outputs": [
        {
          "output_type": "execute_result",
          "data": {
            "text/plain": [
              "array(['DOCONNEL', 'DGRANT', 'JWHALEN', 'MHARTSTE', 'PFAY', 'SMAVRIS',\n",
              "       'HBAER', 'SHIGGINS', 'WGIETZ', 'SKING', 'NKOCHHAR', 'LDEHAAN',\n",
              "       'AHUNOLD', 'BERNST', 'DAUSTIN', 'VPATABAL', 'DLORENTZ', 'NGREENBE',\n",
              "       'DFAVIET', 'JCHEN', 'ISCIARRA', 'JMURMAN', 'LPOPP', 'DRAPHEAL',\n",
              "       'AKHOO', 'SBAIDA', 'STOBIAS', 'GHIMURO', 'KCOLMENA', 'MWEISS',\n",
              "       'AFRIPP', 'PKAUFLIN', 'SVOLLMAN', 'KMOURGOS', 'JNAYER', 'IMIKKILI',\n",
              "       'JLANDRY', 'SMARKLE', 'LBISSOT', 'MATKINSO', 'JAMRLOW', 'TJOLSON',\n",
              "       'JMALLIN', 'MROGERS', 'KGEE', 'HPHILTAN', 'RLADWIG', 'SSTILES',\n",
              "       'JSEO', 'JPATEL'], dtype=object)"
            ]
          },
          "metadata": {},
          "execution_count": 11
        }
      ]
    },
    {
      "cell_type": "code",
      "source": [
        "df.isnull().sum()"
      ],
      "metadata": {
        "colab": {
          "base_uri": "https://localhost:8080/"
        },
        "id": "CoVKd4Jo2B5Z",
        "outputId": "e6338417-0242-469b-d3b0-c102d6039dac"
      },
      "execution_count": null,
      "outputs": [
        {
          "output_type": "execute_result",
          "data": {
            "text/plain": [
              "EMPLOYEE_ID       0\n",
              "FIRST_NAME        0\n",
              "LAST_NAME         0\n",
              "EMAIL             0\n",
              "PHONE_NUMBER      0\n",
              "HIRE_DATE         0\n",
              "JOB_ID            0\n",
              "SALARY            0\n",
              "COMMISSION_PCT    0\n",
              "MANAGER_ID        0\n",
              "DEPARTMENT_ID     0\n",
              "dtype: int64"
            ]
          },
          "metadata": {},
          "execution_count": 12
        }
      ]
    },
    {
      "cell_type": "code",
      "source": [
        "import matplotlib.pyplot as plt"
      ],
      "metadata": {
        "id": "0ldE2FH33Z9Z"
      },
      "execution_count": null,
      "outputs": []
    },
    {
      "cell_type": "code",
      "source": [
        "plt.scatter(x=df.EMAIL,y=df.SALARY)\n",
        "plt.show"
      ],
      "metadata": {
        "colab": {
          "base_uri": "https://localhost:8080/",
          "height": 285
        },
        "id": "npSjGOlJ6J5p",
        "outputId": "297d83a7-cb0e-4176-87d0-d6613ce7a234"
      },
      "execution_count": null,
      "outputs": [
        {
          "output_type": "execute_result",
          "data": {
            "text/plain": [
              "<function matplotlib.pyplot.show(*args, **kw)>"
            ]
          },
          "metadata": {},
          "execution_count": 21
        },
        {
          "output_type": "display_data",
          "data": {
            "text/plain": [
              "<Figure size 432x288 with 1 Axes>"
            ],
            "image/png": "[encoded data removed]"
          },
          "metadata": {
            "needs_background": "light"
          }
        }
      ]
    },
    {
      "cell_type": "code",
      "source": [
        "x=df.SALARY\n",
        "y=df.PHONE_NUMBER\n",
        "z=df.JOB_ID\n",
        "b=df.MANAGER_ID\n",
        "plt.scatter(x,y)\n",
        "plt.scatter(y,b)\n",
        "plt.scatter(b,z)\n",
        "plt.show"
      ],
      "metadata": {
        "colab": {
          "base_uri": "https://localhost:8080/",
          "height": 282
        },
        "id": "XI9auqfNAXRL",
        "outputId": "4e1aaaa3-1448-4a7b-cdda-660b1f47f35a"
      },
      "execution_count": null,
      "outputs": [
        {
          "output_type": "execute_result",
          "data": {
            "text/plain": [
              "<function matplotlib.pyplot.show(*args, **kw)>"
            ]
          },
          "metadata": {},
          "execution_count": 31
        },
        {
          "output_type": "display_data",
          "data": {
            "text/plain": [
              "<Figure size 432x288 with 1 Axes>"
            ],
            "image/png": "[encoded data removed]"
          },
          "metadata": {
            "needs_background": "light"
          }
        }
      ]
    },
    {
      "cell_type": "code",
      "source": [],
      "metadata": {
        "id": "qcr2ZJ35CKVr"
      },
      "execution_count": null,
      "outputs": []
    },
    {
      "cell_type": "code",
      "source": [],
      "metadata": {
        "id": "PqA59uGsBgJB"
      },
      "execution_count": null,
      "outputs": []
    },
    {
      "cell_type": "code",
      "source": [
        "x=df.SALARY\n",
        "plt.hist(x)"
      ],
      "metadata": {
        "colab": {
          "base_uri": "https://localhost:8080/",
          "height": 337
        },
        "id": "Hux4tEGuBnAw",
        "outputId": "a09ece51-3622-407f-9de3-83c562980bb2"
      },
      "execution_count": null,
      "outputs": [
        {
          "output_type": "execute_result",
          "data": {
            "text/plain": [
              "(array([24.,  6., 10.,  3.,  4.,  0.,  2.,  0.,  0.,  1.]),\n",
              " array([ 2100.,  4290.,  6480.,  8670., 10860., 13050., 15240., 17430.,\n",
              "        19620., 21810., 24000.]),\n",
              " <a list of 10 Patch objects>)"
            ]
          },
          "metadata": {},
          "execution_count": 33
        },
        {
          "output_type": "display_data",
          "data": {
            "text/plain": [
              "<Figure size 432x288 with 1 Axes>"
            ],
            "image/png": "[encoded data removed]"
          },
          "metadata": {
            "needs_background": "light"
          }
        }
      ]
    },
    {
      "cell_type": "code",
      "source": [
        "x=df.SALARY\n",
        "y=df.PHONE_NUMBER\n",
        "z=df.JOB_ID\n",
        "b=df.MANAGER_ID\n",
        "plt.scatter(x,y)\n",
        "plt.scatter(y,b)\n",
        "plt.scatter(b,z)\n",
        "plt.legend(['sambalam','phone','velai','thalaivan'])\n",
        "plt.show"
      ],
      "metadata": {
        "colab": {
          "base_uri": "https://localhost:8080/",
          "height": 282
        },
        "id": "SCDkbU8XCL0c",
        "outputId": "e108ccb8-f6d9-43c6-eaac-270e19102c64"
      },
      "execution_count": null,
      "outputs": [
        {
          "output_type": "execute_result",
          "data": {
            "text/plain": [
              "<function matplotlib.pyplot.show(*args, **kw)>"
            ]
          },
          "metadata": {},
          "execution_count": 34
        },
        {
          "output_type": "display_data",
          "data": {
            "text/plain": [
              "<Figure size 432x288 with 1 Axes>"
            ],
            "image/png": "[encoded data removed]"
          },
          "metadata": {
            "needs_background": "light"
          }
        }
      ]
    },
    {
      "cell_type": "code",
      "source": [],
      "metadata": {
        "id": "WETKZVrQB2vl"
      },
      "execution_count": null,
      "outputs": []
    }
  ]
}